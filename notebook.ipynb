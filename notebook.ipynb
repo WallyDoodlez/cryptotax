{
 "cells": [
  {
   "cell_type": "code",
   "execution_count": 26,
   "metadata": {},
   "outputs": [
    {
     "data": {
      "text/plain": [
       "array(['Buy', 'Sell', 'Unknown Acquisition', 'Transfer In',\n",
       "       'Unknown Disposal', 'Fee', 'Transfer Out', 'Airdrop', 'Failed Out',\n",
       "       'Staking', 'Borrow', 'Loan Repayment', 'Mining', 'Staking Deposit',\n",
       "       'Staking Withdrawal', 'Burn', 'Mint', 'Interest', 'Income',\n",
       "       'Fiat Deposit', 'Cashback', 'Fiat Withdrawal', 'Ignore In',\n",
       "       'Royalties', 'Unknown'], dtype=object)"
      ]
     },
     "execution_count": 26,
     "metadata": {},
     "output_type": "execute_result"
    }
   ],
   "source": [
    "import pandas as pd\n",
    "df_2021 = pd.read_csv(\"2021.csv\");\n",
    "df_2020 = pd.read_csv(\"2020.csv\");\n",
    "df_2019 = pd.read_csv(\"2019.csv\");\n",
    "df_2018 = pd.read_csv(\"2018.csv\");\n",
    "\n",
    "df = pd.concat([df_2018, df_2019, df_2020, df_2021], ignore_index=True);\n",
    "\n",
    "\n",
    "df.Timestamp = pd.to_datetime(df.Timestamp)\n",
    "df.Quantity = df.Quantity.str.replace(\",\", \"\")\n",
    "df.Quantity = pd.to_numeric(df.Quantity)\n",
    "df[\"Trade Type\"].unique()"
   ]
  },
  {
   "cell_type": "code",
   "execution_count": 27,
   "metadata": {},
   "outputs": [],
   "source": [
    "# numeric_columns = [\"Quantity\", \"Opening Cost\", \"Opening Value\", \"Ending Cost\", \"Closing Value\", \"Opening Balance\", \"Closing Balance\"]\n",
    "\n",
    "# for x in numeric_columns:\n",
    "#     df[x] = pd.to_numeric(df[x].str.replace(\",\",\"\").replace(\"^-$\", \"0\", regex=True))\n"
   ]
  },
  {
   "cell_type": "code",
   "execution_count": 28,
   "metadata": {},
   "outputs": [],
   "source": [
    "#get all trade types\n",
    "df[\"Trade Type\"].unique()\n",
    "income_types = [\"Income\", \"Airdrop\"]\n",
    "income_transactions = df[df[\"Trade Type\"].isin(income_types) ]\n",
    "\n",
    "tax_types = [\"Income\", \"Airdrop\", \"Mining\", \"Cashback\", \"Borrow\", \"Unknown Acquisition\", \"Transfer In\"]\n",
    "#remove all income transactions from tax calculations\n",
    "tax_df = df[~df[\"Trade Type\"].isin(income_types)]\n",
    "\n",
    "\n",
    "income_types = [\"Income\", \"Airdrop\"]\n",
    "income_tx = df[df[\"Trade Type\"].isin(income_types) ]\n",
    "\n",
    "non_taxed_types = [\"Cashback\", \"Borrow\", \"Unknown Acquisition\", \"Mining\"]\n",
    "non_tax_df = df[df[\"Trade Type\"].isin(non_taxed_types)]\n",
    "\n",
    "staking_types =[\"Staking\", \"Staking Withdrawal\"]\n",
    "staked_df = df[df[\"Trade Type\"].isin(staking_types)]"
   ]
  },
  {
   "cell_type": "code",
   "execution_count": 29,
   "metadata": {},
   "outputs": [],
   "source": [
    "# store all income tokens seperately\n",
    "all_coins = df.Currency.unique()\n",
    "income_tokens = {}\n",
    "for token_name in all_coins:\n",
    "    this_income_tokens = tax_df[tax_df.Currency == token_name ]\n",
    "    income_tokens[token_name] = this_income_tokens"
   ]
  },
  {
   "cell_type": "code",
   "execution_count": 30,
   "metadata": {},
   "outputs": [
    {
     "name": "stdout",
     "output_type": "stream",
     "text": [
      "Buy 0.0028606 Bitcoin (BTC) @ 17347.60810027\n"
     ]
    },
    {
     "name": "stderr",
     "output_type": "stream",
     "text": [
      "C:\\Users\\naaht\\AppData\\Roaming\\Python\\Python37\\site-packages\\ipykernel_launcher.py:2: SettingWithCopyWarning: \n",
      "A value is trying to be set on a copy of a slice from a DataFrame.\n",
      "Try using .loc[row_indexer,col_indexer] = value instead\n",
      "\n",
      "See the caveats in the documentation: https://pandas.pydata.org/pandas-docs/stable/user_guide/indexing.html#returning-a-view-versus-a-copy\n",
      "  \n"
     ]
    },
    {
     "name": "stdout",
     "output_type": "stream",
     "text": [
      "Buy 0.00251394 Bitcoin (BTC) @ 18046.52882199\n",
      "Buy 0.00653363 Bitcoin (BTC) @ 14582.91287215\n",
      "Buy 0.00243304 Bitcoin (BTC) @ 14132.23140496\n",
      "Buy 0.00268294 Bitcoin (BTC) @ 13087.45536243\n",
      "Buy 0.00458053 Bitcoin (BTC) @ 13898.20578728\n",
      "Buy 0.00222837 Bitcoin (BTC) @ 13398.58050624\n"
     ]
    },
    {
     "ename": "TypeError",
     "evalue": "exceptions must derive from BaseException",
     "output_type": "error",
     "traceback": [
      "\u001b[1;31m---------------------------------------------------------------------------\u001b[0m",
      "\u001b[1;31mTypeError\u001b[0m                                 Traceback (most recent call last)",
      "\u001b[1;32m~\\AppData\\Local\\Temp\\ipykernel_14060\\40751152.py\u001b[0m in \u001b[0;36m<module>\u001b[1;34m\u001b[0m\n\u001b[0;32m     69\u001b[0m     \u001b[0mcurr_acb\u001b[0m \u001b[1;33m=\u001b[0m \u001b[1;32mNone\u001b[0m\u001b[1;33m\u001b[0m\u001b[1;33m\u001b[0m\u001b[0m\n\u001b[0;32m     70\u001b[0m     \u001b[1;32mfor\u001b[0m \u001b[0mindex\u001b[0m\u001b[1;33m,\u001b[0m \u001b[0mrow\u001b[0m \u001b[1;32min\u001b[0m \u001b[0mtoken_txs\u001b[0m\u001b[1;33m.\u001b[0m\u001b[0miterrows\u001b[0m\u001b[1;33m(\u001b[0m\u001b[1;33m)\u001b[0m\u001b[1;33m:\u001b[0m\u001b[1;33m\u001b[0m\u001b[1;33m\u001b[0m\u001b[0m\n\u001b[1;32m---> 71\u001b[1;33m         \u001b[0mcurr_acb\u001b[0m \u001b[1;33m=\u001b[0m \u001b[0mcalc_acb\u001b[0m\u001b[1;33m(\u001b[0m\u001b[0mcurr_acb\u001b[0m\u001b[1;33m,\u001b[0m \u001b[0mrow\u001b[0m\u001b[1;33m)\u001b[0m\u001b[1;33m\u001b[0m\u001b[1;33m\u001b[0m\u001b[0m\n\u001b[0m",
      "\u001b[1;32m~\\AppData\\Local\\Temp\\ipykernel_14060\\40751152.py\u001b[0m in \u001b[0;36mcalc_acb\u001b[1;34m(prev_acb, row)\u001b[0m\n\u001b[0;32m     57\u001b[0m         \u001b[0mthis_acb\u001b[0m\u001b[1;33m.\u001b[0m\u001b[0mloc\u001b[0m\u001b[1;33m[\u001b[0m\u001b[0mlen\u001b[0m\u001b[1;33m(\u001b[0m\u001b[0mthis_acb\u001b[0m\u001b[1;33m.\u001b[0m\u001b[0mindex\u001b[0m\u001b[1;33m)\u001b[0m\u001b[1;33m]\u001b[0m \u001b[1;33m=\u001b[0m \u001b[1;33m[\u001b[0m\u001b[0mrow\u001b[0m\u001b[1;33m.\u001b[0m\u001b[0mCurrency\u001b[0m\u001b[1;33m,\u001b[0m \u001b[0mrow\u001b[0m\u001b[1;33m.\u001b[0m\u001b[0mQuantity\u001b[0m\u001b[1;33m,\u001b[0m \u001b[0mrow\u001b[0m\u001b[1;33m.\u001b[0m\u001b[0mPrice\u001b[0m\u001b[1;33m,\u001b[0m \u001b[0mtrade_type\u001b[0m\u001b[1;33m]\u001b[0m\u001b[1;33m\u001b[0m\u001b[1;33m\u001b[0m\u001b[0m\n\u001b[0;32m     58\u001b[0m     \u001b[1;32melse\u001b[0m\u001b[1;33m:\u001b[0m\u001b[1;33m\u001b[0m\u001b[1;33m\u001b[0m\u001b[0m\n\u001b[1;32m---> 59\u001b[1;33m         \u001b[1;32mraise\u001b[0m \u001b[1;34mf\"{trade_type} not yet recognized\"\u001b[0m\u001b[1;33m\u001b[0m\u001b[1;33m\u001b[0m\u001b[0m\n\u001b[0m\u001b[0;32m     60\u001b[0m \u001b[1;33m\u001b[0m\u001b[0m\n\u001b[0;32m     61\u001b[0m     \u001b[1;32mreturn\u001b[0m \u001b[0mthis_acb\u001b[0m\u001b[1;33m\u001b[0m\u001b[1;33m\u001b[0m\u001b[0m\n",
      "\u001b[1;31mTypeError\u001b[0m: exceptions must derive from BaseException"
     ]
    }
   ],
   "source": [
    "#create a column to store the ACB at each sell transactions\n",
    "tax_df[\"ACB\"]  = None;\n",
    "#tax_df.apply(lambda x: print (x.name), axis=1)\n",
    "\n",
    "\n",
    "def calc_acb(prev_acb, row):\n",
    "    #read the last acb\n",
    "    \n",
    "    if (prev_acb is not None):\n",
    "        this_acb = prev_acb.copy() \n",
    "    else:\n",
    "        this_acb = pd.DataFrame(columns = [\"Currency\", \"Quantity\", \"Price\", \"Trade Type\"])\n",
    "        row[\"ACB\"] = this_acb\n",
    "#tax_types = [\"Income\", \"Airdrop\", \"Mining\", \"Cashback\", \"Borrow\", \"Unknown Acquisition\", \"Transfer In\"]\n",
    " \n",
    "    trade_type = row[\"Trade Type\"]\n",
    "\n",
    "    if (trade_type == \"Sell\"):\n",
    "        print(f\"Selling {row.Quantity} {row.Currency} @ {row.Price}\");\n",
    "\n",
    "        #selling, \n",
    "        sell_quantity = row[\"Quantity\"]\n",
    "        left_over_sell_quantity = sell_quantity\n",
    "        rows_to_delete = [];\n",
    "        curr_cost = 0;\n",
    "        for _, acb_row in this_acb.iterrows():\n",
    "            #for each row, deduct the amount to be sold \n",
    "            delta = max(sell_quantity, acb_row.Quantity)\n",
    "            left_over_sell_quantity -= delta\n",
    "            \n",
    "\n",
    "            # if (left_over_sell_quantity < 0) :\n",
    "            #     #for now, we do not handle negative amount\n",
    "            #     raise \"Negetive amount\"\n",
    "\n",
    "            acb_type = acb_row[\"Trade Type\"]\n",
    "\n",
    "            if (acb_type in [\"Income\", \"Airdrop\", \"Mining\", \"Cashback\", \"Borrow\", \"Unknown Acquisition\", \"Transfer In\"]):\n",
    "                # if the acb type is already taxed, dont tax again, so use today's price to calc cost so that no gain can incur\n",
    "                acb_cost = row.Price * delta\n",
    "                curr_cost += acb_cost\n",
    "            else:\n",
    "                #otherwise the cost of the acb entry will be the actual cost\n",
    "                curr_cost += acb_row.Price * delta\n",
    "\n",
    "            if (left_over_sell_quantity > 0):\n",
    "                #if there are more to sell remove this row\n",
    "                acb_row.Quantity -= delta\n",
    "            else:\n",
    "                #other wise adjust the number of this row, and we are done\n",
    "                rows_to_delete.append(acb_row.name)\n",
    "                break;\n",
    "\n",
    "        this_acb.drop(index = rows_to_delete , inplace=True)\n",
    "            #otherwise go on to the next row\n",
    "    elif (trade_type in [\"Income\", \"Airdrop\", \"Mining\", \"Cashback\", \"Borrow\", \"Unknown Acquisition\", \"Transfer In\", \"Buy\"]):\n",
    "        #add to the acb\n",
    "        print(f\"{trade_type} {row.Quantity} {row.Currency} @ {row.Price}\");\n",
    "        this_acb.loc[len(this_acb.index)] = [row.Currency, row.Quantity, row.Price, trade_type]\n",
    "    else:\n",
    "        raise f\"{trade_type} not yet recognized\"\n",
    "\n",
    "    return this_acb\n",
    "\n",
    "#go through all the tokens, calculate the ACB\n",
    "all_coins = df.Currency.unique()\n",
    "\n",
    "for token_name in all_coins:\n",
    "    token_txs = tax_df[tax_df.Currency == token_name]\n",
    "    #income_tx = df[df.Currency == token_name & df[\"Trade Type\"] == ]\n",
    "    curr_acb = None\n",
    "    for index, row in token_txs.iterrows():\n",
    "        curr_acb = calc_acb(curr_acb, row)"
   ]
  },
  {
   "cell_type": "code",
   "execution_count": 95,
   "metadata": {},
   "outputs": [
    {
     "ename": "KeyError",
     "evalue": "\"['Buy', 'Sell', 'Unknown Acquisition', 'Transfer In', 'Unknown Disposal', 'Transfer Out', 'Airdrop', nan, 'Fiat Deposit', 'Staking', 'Staking Deposit', 'Staking Withdrawal', 'Interest', 'Cashback', 'Failed Out', 'Income', 'Borrow', 'Burn', 'Mint', 'Loan Repayment', 'Fiat Withdrawal', 'Ignore In', 'Royalties', 'Unknown'] not in index\"",
     "output_type": "error",
     "traceback": [
      "\u001b[1;31m---------------------------------------------------------------------------\u001b[0m",
      "\u001b[1;31mKeyError\u001b[0m                                  Traceback (most recent call last)",
      "\u001b[1;32m~\\AppData\\Local\\Temp\\ipykernel_10280\\1888965913.py\u001b[0m in \u001b[0;36m<module>\u001b[1;34m\u001b[0m\n\u001b[0;32m      3\u001b[0m \u001b[0mincome_tokens\u001b[0m \u001b[1;33m=\u001b[0m \u001b[1;33m{\u001b[0m\u001b[1;33m}\u001b[0m\u001b[1;33m\u001b[0m\u001b[1;33m\u001b[0m\u001b[0m\n\u001b[0;32m      4\u001b[0m \u001b[1;32mfor\u001b[0m \u001b[0mtoken_name\u001b[0m \u001b[1;32min\u001b[0m \u001b[0mall_coins\u001b[0m\u001b[1;33m:\u001b[0m\u001b[1;33m\u001b[0m\u001b[1;33m\u001b[0m\u001b[0m\n\u001b[1;32m----> 5\u001b[1;33m     \u001b[0mthis_income_tokens\u001b[0m \u001b[1;33m=\u001b[0m \u001b[0mdf\u001b[0m\u001b[1;33m[\u001b[0m\u001b[0mdf\u001b[0m\u001b[1;33m[\u001b[0m\u001b[1;34m\"Trade Type\"\u001b[0m\u001b[1;33m]\u001b[0m \u001b[1;33m]\u001b[0m\u001b[1;33m\u001b[0m\u001b[1;33m\u001b[0m\u001b[0m\n\u001b[0m\u001b[0;32m      6\u001b[0m \u001b[1;33m\u001b[0m\u001b[0m\n\u001b[0;32m      7\u001b[0m \u001b[1;31m# create a column to store the ACB of each transactions\u001b[0m\u001b[1;33m\u001b[0m\u001b[1;33m\u001b[0m\u001b[1;33m\u001b[0m\u001b[0m\n",
      "\u001b[1;32m~\\AppData\\Local\\Programs\\Python\\Python37-32\\lib\\site-packages\\pandas\\core\\frame.py\u001b[0m in \u001b[0;36m__getitem__\u001b[1;34m(self, key)\u001b[0m\n\u001b[0;32m   3462\u001b[0m             \u001b[1;32mif\u001b[0m \u001b[0mis_iterator\u001b[0m\u001b[1;33m(\u001b[0m\u001b[0mkey\u001b[0m\u001b[1;33m)\u001b[0m\u001b[1;33m:\u001b[0m\u001b[1;33m\u001b[0m\u001b[1;33m\u001b[0m\u001b[0m\n\u001b[0;32m   3463\u001b[0m                 \u001b[0mkey\u001b[0m \u001b[1;33m=\u001b[0m \u001b[0mlist\u001b[0m\u001b[1;33m(\u001b[0m\u001b[0mkey\u001b[0m\u001b[1;33m)\u001b[0m\u001b[1;33m\u001b[0m\u001b[1;33m\u001b[0m\u001b[0m\n\u001b[1;32m-> 3464\u001b[1;33m             \u001b[0mindexer\u001b[0m \u001b[1;33m=\u001b[0m \u001b[0mself\u001b[0m\u001b[1;33m.\u001b[0m\u001b[0mloc\u001b[0m\u001b[1;33m.\u001b[0m\u001b[0m_get_listlike_indexer\u001b[0m\u001b[1;33m(\u001b[0m\u001b[0mkey\u001b[0m\u001b[1;33m,\u001b[0m \u001b[0maxis\u001b[0m\u001b[1;33m=\u001b[0m\u001b[1;36m1\u001b[0m\u001b[1;33m)\u001b[0m\u001b[1;33m[\u001b[0m\u001b[1;36m1\u001b[0m\u001b[1;33m]\u001b[0m\u001b[1;33m\u001b[0m\u001b[1;33m\u001b[0m\u001b[0m\n\u001b[0m\u001b[0;32m   3465\u001b[0m \u001b[1;33m\u001b[0m\u001b[0m\n\u001b[0;32m   3466\u001b[0m         \u001b[1;31m# take() does not accept boolean indexers\u001b[0m\u001b[1;33m\u001b[0m\u001b[1;33m\u001b[0m\u001b[1;33m\u001b[0m\u001b[0m\n",
      "\u001b[1;32m~\\AppData\\Local\\Programs\\Python\\Python37-32\\lib\\site-packages\\pandas\\core\\indexing.py\u001b[0m in \u001b[0;36m_get_listlike_indexer\u001b[1;34m(self, key, axis)\u001b[0m\n\u001b[0;32m   1312\u001b[0m             \u001b[0mkeyarr\u001b[0m\u001b[1;33m,\u001b[0m \u001b[0mindexer\u001b[0m\u001b[1;33m,\u001b[0m \u001b[0mnew_indexer\u001b[0m \u001b[1;33m=\u001b[0m \u001b[0max\u001b[0m\u001b[1;33m.\u001b[0m\u001b[0m_reindex_non_unique\u001b[0m\u001b[1;33m(\u001b[0m\u001b[0mkeyarr\u001b[0m\u001b[1;33m)\u001b[0m\u001b[1;33m\u001b[0m\u001b[1;33m\u001b[0m\u001b[0m\n\u001b[0;32m   1313\u001b[0m \u001b[1;33m\u001b[0m\u001b[0m\n\u001b[1;32m-> 1314\u001b[1;33m         \u001b[0mself\u001b[0m\u001b[1;33m.\u001b[0m\u001b[0m_validate_read_indexer\u001b[0m\u001b[1;33m(\u001b[0m\u001b[0mkeyarr\u001b[0m\u001b[1;33m,\u001b[0m \u001b[0mindexer\u001b[0m\u001b[1;33m,\u001b[0m \u001b[0maxis\u001b[0m\u001b[1;33m)\u001b[0m\u001b[1;33m\u001b[0m\u001b[1;33m\u001b[0m\u001b[0m\n\u001b[0m\u001b[0;32m   1315\u001b[0m \u001b[1;33m\u001b[0m\u001b[0m\n\u001b[0;32m   1316\u001b[0m         if needs_i8_conversion(ax.dtype) or isinstance(\n",
      "\u001b[1;32m~\\AppData\\Local\\Programs\\Python\\Python37-32\\lib\\site-packages\\pandas\\core\\indexing.py\u001b[0m in \u001b[0;36m_validate_read_indexer\u001b[1;34m(self, key, indexer, axis)\u001b[0m\n\u001b[0;32m   1375\u001b[0m \u001b[1;33m\u001b[0m\u001b[0m\n\u001b[0;32m   1376\u001b[0m             \u001b[0mnot_found\u001b[0m \u001b[1;33m=\u001b[0m \u001b[0mlist\u001b[0m\u001b[1;33m(\u001b[0m\u001b[0mensure_index\u001b[0m\u001b[1;33m(\u001b[0m\u001b[0mkey\u001b[0m\u001b[1;33m)\u001b[0m\u001b[1;33m[\u001b[0m\u001b[0mmissing_mask\u001b[0m\u001b[1;33m.\u001b[0m\u001b[0mnonzero\u001b[0m\u001b[1;33m(\u001b[0m\u001b[1;33m)\u001b[0m\u001b[1;33m[\u001b[0m\u001b[1;36m0\u001b[0m\u001b[1;33m]\u001b[0m\u001b[1;33m]\u001b[0m\u001b[1;33m.\u001b[0m\u001b[0munique\u001b[0m\u001b[1;33m(\u001b[0m\u001b[1;33m)\u001b[0m\u001b[1;33m)\u001b[0m\u001b[1;33m\u001b[0m\u001b[1;33m\u001b[0m\u001b[0m\n\u001b[1;32m-> 1377\u001b[1;33m             \u001b[1;32mraise\u001b[0m \u001b[0mKeyError\u001b[0m\u001b[1;33m(\u001b[0m\u001b[1;34mf\"{not_found} not in index\"\u001b[0m\u001b[1;33m)\u001b[0m\u001b[1;33m\u001b[0m\u001b[1;33m\u001b[0m\u001b[0m\n\u001b[0m\u001b[0;32m   1378\u001b[0m \u001b[1;33m\u001b[0m\u001b[0m\n\u001b[0;32m   1379\u001b[0m \u001b[1;33m\u001b[0m\u001b[0m\n",
      "\u001b[1;31mKeyError\u001b[0m: \"['Buy', 'Sell', 'Unknown Acquisition', 'Transfer In', 'Unknown Disposal', 'Transfer Out', 'Airdrop', nan, 'Fiat Deposit', 'Staking', 'Staking Deposit', 'Staking Withdrawal', 'Interest', 'Cashback', 'Failed Out', 'Income', 'Borrow', 'Burn', 'Mint', 'Loan Repayment', 'Fiat Withdrawal', 'Ignore In', 'Royalties', 'Unknown'] not in index\""
     ]
    }
   ],
   "source": []
  },
  {
   "cell_type": "code",
   "execution_count": null,
   "metadata": {},
   "outputs": [],
   "source": [
    "all_coins = df.Currency.unique()\n",
    "\n",
    "df[\"\"]"
   ]
  }
 ],
 "metadata": {
  "interpreter": {
   "hash": "fba83dcb293f92dfb612fe41f0b081fc02d23c4f545ed8de2f933202a7eda4b8"
  },
  "kernelspec": {
   "display_name": "Python 3.7.4 32-bit",
   "language": "python",
   "name": "python3"
  },
  "language_info": {
   "codemirror_mode": {
    "name": "ipython",
    "version": 3
   },
   "file_extension": ".py",
   "mimetype": "text/x-python",
   "name": "python",
   "nbconvert_exporter": "python",
   "pygments_lexer": "ipython3",
   "version": "3.7.4"
  },
  "orig_nbformat": 4
 },
 "nbformat": 4,
 "nbformat_minor": 2
}
